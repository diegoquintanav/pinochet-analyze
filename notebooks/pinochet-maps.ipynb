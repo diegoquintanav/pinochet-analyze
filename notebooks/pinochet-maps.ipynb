{
 "cells": [
  {
   "cell_type": "markdown",
   "metadata": {},
   "source": [
    "# Analyzing the `pinochet` dataset\n",
    "\n",
    "Taken from <https://github.com/danilofreire/pinochet>"
   ]
  },
  {
   "cell_type": "code",
   "execution_count": null,
   "metadata": {},
   "outputs": [],
   "source": []
  },
  {
   "cell_type": "code",
   "execution_count": 1,
   "metadata": {},
   "outputs": [
    {
     "name": "stdout",
     "output_type": "stream",
     "text": [
      "\u001b[01;34m../pinochet\u001b[00m\n",
      "├── _config.yml\n",
      "├── \u001b[01;34mdata\u001b[00m\n",
      "│   ├── pinochet.csv\n",
      "│   ├── pinochet.RData\n",
      "│   └── pinochet.xlsx\n",
      "├── \u001b[01;34mdocs\u001b[00m\n",
      "│   ├── 404.html\n",
      "│   ├── \u001b[01;34marticles\u001b[00m\n",
      "│   ├── authors.html\n",
      "│   ├── docsearch.css\n",
      "│   ├── docsearch.js\n",
      "│   ├── index.html\n",
      "│   ├── LICENSE-text.html\n",
      "│   ├── \u001b[01;35mlink.svg\u001b[00m\n",
      "│   ├── pkgdown.css\n",
      "│   ├── pkgdown.js\n",
      "│   ├── pkgdown.yml\n",
      "│   └── \u001b[01;34mreference\u001b[00m\n",
      "├── \u001b[01;34mfigures\u001b[00m\n",
      "│   ├── \u001b[01;35mmap.png\u001b[00m\n",
      "│   └── \u001b[01;35mtime-trend.png\u001b[00m\n",
      "├── \u001b[01;34mmanuscript\u001b[00m\n",
      "│   ├── \u001b[01;34marticle\u001b[00m\n",
      "│   ├── _config.yml\n",
      "│   └── \u001b[01;34monline-appendix\u001b[00m\n",
      "└── README.md\n",
      "\n",
      "8 directories, 18 files\n"
     ]
    }
   ],
   "source": [
    "!tree -L 2 ../pinochet"
   ]
  },
  {
   "cell_type": "code",
   "execution_count": 2,
   "metadata": {
    "scrolled": false
   },
   "outputs": [
    {
     "name": "stdout",
     "output_type": "stream",
     "text": [
      "# Deaths and Disappearances in the Pinochet Regime: A New Dataset\r\n",
      "\r\n",
      "[![CRAN\\_Status\\_Badge](http://www.r-pkg.org/badges/version/pinochet)](https://cran.r-project.org/package=pinochet) \r\n",
      "[![Travis-CI Build\r\n",
      "Status](https://travis-ci.org/danilofreire/pinochet.svg?branch=package)](https://travis-ci.org/danilofreire/pinochet)\r\n",
      "[![DOI](https://zenodo.org/badge/103286196.svg)](https://zenodo.org/badge/latestdoi/103286196)\r\n",
      "[![](http://cranlogs.r-pkg.org/badges/grand-total/pinochet?color=blue)](https://cran.r-project.org/package=pinochet)\r\n",
      "\r\n",
      "This Github repository contains data and documented R code for [Deaths and Disappearances in the Pinochet Regime: A New Dataset](https://doi.org/10.31235/osf.io/vqnwu) by Freire et al (2019). We coded the personal details of 2,398 victims named in the Chilean Truth Commission Report along with information about the perpetrators and geographical coordinates for all identifiable atrocity locations. The dataset covers from 1973 to 1990 and includes 59 indicators. Please refer to our [accompanying article](https://doi.org/10.31235/osf.io/vqnwu) and our [online appendix](https://osf.io/8fkxq) for more details.\r\n",
      "\r\n",
      "This branch has the data and code for the main article. The source code for the `pinochet` `R` package is available in the [package branch of this repository](https://github.com/danilofreire/pinochet/tree/package).\r\n",
      "\r\n",
      "## Installation\r\n",
      "\r\n",
      "The dataset is available in three formats: as an [Excel spreadsheet](https://github.com/danilofreire/pinochet/raw/master/data/pinochet.xlsx), a [`csv` file](https://raw.githubusercontent.com/danilofreire/pinochet/master/data/pinochet.csv),  and as the [`pinochet` package for `R`](http://github.com/danilofreire/pinochet/tree/package). The stable version of the package is on [CRAN](https://cran.r-project.org/package=pinochet). You can install it with:\r\n",
      "\r\n",
      "```\r\n",
      "install.packages(\"pinochet\")\r\n",
      "```\r\n",
      "\r\n",
      "We plan to update the dataset by including information from other official sources. To install the latest version of the package, simply use:\r\n",
      "\r\n",
      "```\r\n",
      "if (!require(\"devtools\")) {\r\n",
      "    install.packages(\"devtools\")\r\n",
      "}\r\n",
      "devtools::install_github(\"danilofreire/pinochet\", ref = \"package\")\r\n",
      "```\r\n",
      "\r\n",
      "Then load the dataset with:\r\n",
      "\r\n",
      "```\r\n",
      "library(pinochet)\r\n",
      "data(pinochet)\r\n",
      "```\r\n",
      "\r\n",
      "## Variables\r\n",
      "\r\n",
      "There are 59 variables in our dataset. Most of them refer to information about the victims, such as gender, age, first and last name, and their political affiliation (if available). The Chilean Truth Commission Report, our main data source, also mentions some characteristics of the perpetrators when they could be identified. We include coordinates of latitude and longitude for all identifiable places used for torture or executions. We created a variable indicating whether the coordinates are exact or not. In some cases, the Truth Commission was not able to locate where the atrocities took place. We likewise indicate that the coordinates are approximate. \r\n",
      "\r\n",
      "Our [data codebook](https://osf.io/8fkxq) has the description of the variables. You can quickly see the variable names with: \r\n",
      "\r\n",
      "```\r\n",
      "names(pinochet)\r\n",
      "```\r\n",
      "\r\n",
      "## Applications\r\n",
      "\r\n",
      "To illustrate the potential uses of the package, we show some spatial and temporal variation of the data. We see that the Pinochet regime concentrated most of the violence in the first three months after the coup. The graph below describe time trends for the atrocities perpetrated by the dictatorship:\r\n",
      "\r\n",
      "```\r\n",
      "# Install necessary packages\r\n",
      "if (!require(\"tidyverse\")) {\r\n",
      "        install.packages(\"tidyverse\")\r\n",
      "}\r\n",
      "if (!require(\"lubridate\")) {\r\n",
      "        install.packages(\"lubridate\")\r\n",
      "}\r\n",
      "\r\n",
      "# Plot\r\n",
      "pinochet %>% \r\n",
      "  ungroup() %>% \r\n",
      "  mutate(Year = year(start_date_monthly)) %>%\r\n",
      "  group_by(Year) %>% tally() %>% \r\n",
      "  filter(!is.na(Year)) %>% \r\n",
      "  ggplot(aes(x = Year, y = n)) +\r\n",
      "  geom_line() +\r\n",
      "  theme_minimal() +\r\n",
      "  labs(x = NULL, y = NULL, title = \"Number of Human Rights Abuses\", \r\n",
      "       subtitle = \"Pinochet Regime, 1973-1990\") +\r\n",
      "  scale_y_continuous(breaks = c(0, 500, 1000, 1274))\r\n",
      "```\r\n",
      "\r\n",
      "![\"Human rights abuses in the Pinochet regime, 1973-1990\"](https://github.com/danilofreire/pinochet/raw/master/figures/time-trend.png)\r\n",
      "\r\n",
      "We can also plot the geographical locations of the human rights abuses: \r\n",
      "\r\n",
      "```\r\n",
      "# Load necessary packages\r\n",
      "if (!require(\"sf\")) {\r\n",
      "        install.packages(\"sf\")\r\n",
      "}\r\n",
      "if (!require(\"devtools\")) {\r\n",
      "        install.packages(\"devtools\")\r\n",
      "}\r\n",
      "devtools::install_github(\"ropensci/rnaturalearthdata\")\r\n",
      "if (!require(\"rnaturalearthhires\")) {\r\n",
      "        install.packages(\"rnaturalearthhires\",\r\n",
      "                         repos = \"http://packages.ropensci.org\",\r\n",
      "                         type = \"source\")\r\n",
      "}\r\n",
      "library(rnaturalearthdata)\r\n",
      "library(rnaturalearthhires)\r\n",
      "\r\n",
      "# Save events\r\n",
      "chile <- rnaturalearthhires::countries10 %>%\r\n",
      "st_as_sf() %>%\r\n",
      "filter(SOVEREIGNT %in% c(\"Chile\", \"Argentina\", \"Peru\", \"Paraguay\"))\r\n",
      "\r\n",
      "violent_events <- pinochet %>% \r\n",
      "  select(violence, latitude_1, longitude_1) %>%\r\n",
      "  filter(!is.na(violence), !is.na(latitude_1), !is.na(longitude_1)) %>%\r\n",
      "  st_as_sf(coords = c(\"longitude_1\", \"latitude_1\"), crs = 5361) \r\n",
      "\r\n",
      "coords_vio <- st_coordinates(violent_events) %>% as_tibble()\r\n",
      "violent_events <- bind_cols(violent_events, coords_vio)\r\n",
      "\r\n",
      "# Create map\r\n",
      "ggplot() +\r\n",
      "  geom_sf(data = chile) +\r\n",
      "  coord_sf(xlim = c(-75.6, -67), ylim = c(-55, -19)) +\r\n",
      "  labs(x = NULL, y = NULL) +\r\n",
      "  geom_point(data = violent_events, aes(x = X, y = Y,\r\n",
      "                                        colour = violence,\r\n",
      "                                        fill = violence),\r\n",
      "             shape = 21) + \r\n",
      "  scale_colour_manual(values = c(\"#042333FF\", \"#481567FF\",\r\n",
      "                                 \"#253582FF\", \"#2D708EFF\",\r\n",
      "                                 \"#29AF7FFF\")) +\r\n",
      "  scale_fill_manual(values = alpha(c(\"#042333FF\", \"#481567FF\",\r\n",
      "                                     \"#253582FF\", \"#2D708EFF\",\r\n",
      "                                     \"#29AF7FFF\"), .6)) +\r\n",
      "  facet_wrap(~violence, nrow = 1) +\r\n",
      "  theme_minimal() +\r\n",
      "  theme(strip.text = element_blank()) +\r\n",
      "  theme(legend.position = \"bottom\",\r\n",
      "        axis.text = element_blank()) + \r\n",
      "  theme(legend.title=element_blank())\r\n",
      "```\r\n",
      "\r\n",
      "![\"Spatial variation in human rights abuses in the Pinochet regime, 1973-1990\"](https://github.com/danilofreire/pinochet/raw/master/figures/map.png)\r\n",
      "\r\n",
      "We believe our data open new topics of research. For instance, researchers can test whether the Pinochet regime has caused attitudinal changes in direct or indirect victims, the relationship between human rights abuses and post-regime levels of interpersonal violence, or investigate the connections between international legitimacy and domestic politics in repressive regimes. These questions are still discussed in the literature and our dataset provides a way to empirically test them.\r\n",
      "\r\n",
      "We hope our dataset is useful for scholars interested in these and other questions, and that the information it contains elicits hypotheses not only about the Pinochet period, but about authoritarian governments more generally. \r\n",
      "\r\n",
      "Contributions and suggestions are always welcome. Feel free to send me an email or to open an issue on GitHub.\r\n",
      "\r\n",
      "## Citation\r\n",
      "\r\n",
      "You can cite the manuscript as:\r\n",
      "\r\n",
      "```\r\n",
      "@misc{freire2019pinochet,\r\n",
      "  title={{Deaths and Disappearances in the Pinochet Regime: A New Dataset}},\r\n",
      "  howpublished = {\\url{https://doi.org/10.31235/osf.io/vqnwu}},\r\n",
      "  publisher={Open Science Framework},\r\n",
      "  author={Freire, Danilo and Meadowcroft, John and Skarbek, David and Guerrero, Eugenia},\r\n",
      "  year={2019},\r\n",
      "  month={May}\r\n",
      "}\r\n",
      "```\r\n",
      "\r\n",
      "If you use the `pinochet` package, you can cite it as:\r\n",
      "\r\n",
      "```\r\n",
      "@Manual{freire2019package,\r\n",
      "    title = {pinochet: Packages data about the victims of the Pinochet regime},\r\n",
      "    author = {Danilo Freire and Lucas Mingardi and Robert McDonnell},\r\n",
      "    year = {2019},\r\n",
      "    note = {R package version 0.1.0},\r\n",
      "    url = {http://github.com/danilofreire/pinochet}\r\n",
      "}\r\n",
      "```\r\n"
     ]
    }
   ],
   "source": [
    "!cat ../pinochet/README.md"
   ]
  },
  {
   "cell_type": "code",
   "execution_count": 3,
   "metadata": {},
   "outputs": [
    {
     "name": "stdout",
     "output_type": "stream",
     "text": [
      "individual_id,group_id,start_date_daily,end_date_daily,start_date_monthly,end_date_monthly,last_name,first_name,minor,age,male,occupation,occupation_detail,victim_affiliation,victim_affiliation_detail,violence,method,interrogation,torture,mistreatment,targeted,press,war_tribunal,number_previous_arrests,perpetrator_affiliation,perpetrator_affiliation_detail,nationality,place_1,start_location_1,latitude_1,longitude_1,exact_coordinates_1,place_2,location_2,latitude_2,longitude_2,exact_coordinates_2,place_3,end_location_3,latitude_3,longitude_3,exact_coordinates_3,place_4,end_location_4,latitude_4,longitude_4,exact_coordinates_4,place_5,end_location_5,latitude_5,longitude_5,exact_coordinates_5,place_6,end_location_6,latitude_6,longitude_6,exact_coordinates_6,page,additional_comments\r\n",
      "1,1,1973-09-12,1973-09-12,1973-09-01,1973-09-01,Corredera Reyes,Mercedes del Pilar,1,NA,0,School Student,high school,NA,NA,Killed,Gun,NA,NA,NA,NA,0,0,NA,NA,NA,Chilean,In Public,Calle Gran Avenida,-33.501342,-70.654242,0,In Hospital,Medical Legal Institute (by the Barros Luco Hospital),-33.484124,-70.646406,1,NA,NA,NA,NA,NA,NA,NA,NA,NA,NA,NA,NA,NA,NA,NA,NA,NA,NA,NA,NA,159,NA\r\n"
     ]
    }
   ],
   "source": [
    "!head -2 ../pinochet/data/pinochet.csv "
   ]
  },
  {
   "cell_type": "code",
   "execution_count": 4,
   "metadata": {},
   "outputs": [],
   "source": [
    "pinopath = \"../pinochet/data/pinochet.csv\""
   ]
  },
  {
   "cell_type": "code",
   "execution_count": 5,
   "metadata": {},
   "outputs": [
    {
     "data": {
      "text/html": [
       "<div>\n",
       "<style scoped>\n",
       "    .dataframe tbody tr th:only-of-type {\n",
       "        vertical-align: middle;\n",
       "    }\n",
       "\n",
       "    .dataframe tbody tr th {\n",
       "        vertical-align: top;\n",
       "    }\n",
       "\n",
       "    .dataframe thead th {\n",
       "        text-align: right;\n",
       "    }\n",
       "</style>\n",
       "<table border=\"1\" class=\"dataframe\">\n",
       "  <thead>\n",
       "    <tr style=\"text-align: right;\">\n",
       "      <th></th>\n",
       "      <th>individual_id</th>\n",
       "      <th>group_id</th>\n",
       "      <th>start_date_daily</th>\n",
       "      <th>end_date_daily</th>\n",
       "      <th>start_date_monthly</th>\n",
       "      <th>end_date_monthly</th>\n",
       "      <th>last_name</th>\n",
       "      <th>first_name</th>\n",
       "      <th>minor</th>\n",
       "      <th>age</th>\n",
       "      <th>...</th>\n",
       "      <th>latitude_5</th>\n",
       "      <th>longitude_5</th>\n",
       "      <th>exact_coordinates_5</th>\n",
       "      <th>place_6</th>\n",
       "      <th>end_location_6</th>\n",
       "      <th>latitude_6</th>\n",
       "      <th>longitude_6</th>\n",
       "      <th>exact_coordinates_6</th>\n",
       "      <th>page</th>\n",
       "      <th>additional_comments</th>\n",
       "    </tr>\n",
       "  </thead>\n",
       "  <tbody>\n",
       "    <tr>\n",
       "      <td>0</td>\n",
       "      <td>1</td>\n",
       "      <td>1</td>\n",
       "      <td>1973-09-12</td>\n",
       "      <td>1973-09-12</td>\n",
       "      <td>1973-09-01</td>\n",
       "      <td>1973-09-01</td>\n",
       "      <td>Corredera Reyes</td>\n",
       "      <td>Mercedes del Pilar</td>\n",
       "      <td>1.0</td>\n",
       "      <td>NaN</td>\n",
       "      <td>...</td>\n",
       "      <td>NaN</td>\n",
       "      <td>NaN</td>\n",
       "      <td>NaN</td>\n",
       "      <td>NaN</td>\n",
       "      <td>NaN</td>\n",
       "      <td>NaN</td>\n",
       "      <td>NaN</td>\n",
       "      <td>NaN</td>\n",
       "      <td>159</td>\n",
       "      <td>NaN</td>\n",
       "    </tr>\n",
       "    <tr>\n",
       "      <td>1</td>\n",
       "      <td>2</td>\n",
       "      <td>2</td>\n",
       "      <td>1973-09-11</td>\n",
       "      <td>1973-09-12</td>\n",
       "      <td>1973-09-01</td>\n",
       "      <td>1973-09-01</td>\n",
       "      <td>Torres Torres</td>\n",
       "      <td>Benito Heriberto</td>\n",
       "      <td>0.0</td>\n",
       "      <td>57.0</td>\n",
       "      <td>...</td>\n",
       "      <td>NaN</td>\n",
       "      <td>NaN</td>\n",
       "      <td>NaN</td>\n",
       "      <td>NaN</td>\n",
       "      <td>NaN</td>\n",
       "      <td>NaN</td>\n",
       "      <td>NaN</td>\n",
       "      <td>NaN</td>\n",
       "      <td>159-60</td>\n",
       "      <td>NaN</td>\n",
       "    </tr>\n",
       "    <tr>\n",
       "      <td>2</td>\n",
       "      <td>3</td>\n",
       "      <td>3</td>\n",
       "      <td>1973-09-12</td>\n",
       "      <td>1973-09-12</td>\n",
       "      <td>1973-09-01</td>\n",
       "      <td>1973-09-01</td>\n",
       "      <td>Lira Morales</td>\n",
       "      <td>Juan Manuel</td>\n",
       "      <td>0.0</td>\n",
       "      <td>23.0</td>\n",
       "      <td>...</td>\n",
       "      <td>NaN</td>\n",
       "      <td>NaN</td>\n",
       "      <td>NaN</td>\n",
       "      <td>NaN</td>\n",
       "      <td>NaN</td>\n",
       "      <td>NaN</td>\n",
       "      <td>NaN</td>\n",
       "      <td>NaN</td>\n",
       "      <td>160</td>\n",
       "      <td>NaN</td>\n",
       "    </tr>\n",
       "    <tr>\n",
       "      <td>3</td>\n",
       "      <td>4</td>\n",
       "      <td>4</td>\n",
       "      <td>1973-09-12</td>\n",
       "      <td>1973-09-14</td>\n",
       "      <td>1973-09-01</td>\n",
       "      <td>1973-09-01</td>\n",
       "      <td>Fontela Alonso</td>\n",
       "      <td>Alberto Mariano</td>\n",
       "      <td>0.0</td>\n",
       "      <td>26.0</td>\n",
       "      <td>...</td>\n",
       "      <td>NaN</td>\n",
       "      <td>NaN</td>\n",
       "      <td>NaN</td>\n",
       "      <td>NaN</td>\n",
       "      <td>NaN</td>\n",
       "      <td>NaN</td>\n",
       "      <td>NaN</td>\n",
       "      <td>NaN</td>\n",
       "      <td>160</td>\n",
       "      <td>NaN</td>\n",
       "    </tr>\n",
       "    <tr>\n",
       "      <td>4</td>\n",
       "      <td>5</td>\n",
       "      <td>5</td>\n",
       "      <td>1973-09-12</td>\n",
       "      <td>1973-09-12</td>\n",
       "      <td>1973-09-01</td>\n",
       "      <td>1973-09-01</td>\n",
       "      <td>Quintilliano Cardozo</td>\n",
       "      <td>Tulio Roberto</td>\n",
       "      <td>0.0</td>\n",
       "      <td>29.0</td>\n",
       "      <td>...</td>\n",
       "      <td>NaN</td>\n",
       "      <td>NaN</td>\n",
       "      <td>NaN</td>\n",
       "      <td>NaN</td>\n",
       "      <td>NaN</td>\n",
       "      <td>NaN</td>\n",
       "      <td>NaN</td>\n",
       "      <td>NaN</td>\n",
       "      <td>160-61</td>\n",
       "      <td>NaN</td>\n",
       "    </tr>\n",
       "  </tbody>\n",
       "</table>\n",
       "<p>5 rows × 59 columns</p>\n",
       "</div>"
      ],
      "text/plain": [
       "   individual_id  group_id start_date_daily end_date_daily start_date_monthly  \\\n",
       "0              1         1       1973-09-12     1973-09-12         1973-09-01   \n",
       "1              2         2       1973-09-11     1973-09-12         1973-09-01   \n",
       "2              3         3       1973-09-12     1973-09-12         1973-09-01   \n",
       "3              4         4       1973-09-12     1973-09-14         1973-09-01   \n",
       "4              5         5       1973-09-12     1973-09-12         1973-09-01   \n",
       "\n",
       "  end_date_monthly             last_name          first_name  minor   age  \\\n",
       "0       1973-09-01       Corredera Reyes  Mercedes del Pilar    1.0   NaN   \n",
       "1       1973-09-01         Torres Torres    Benito Heriberto    0.0  57.0   \n",
       "2       1973-09-01          Lira Morales         Juan Manuel    0.0  23.0   \n",
       "3       1973-09-01        Fontela Alonso     Alberto Mariano    0.0  26.0   \n",
       "4       1973-09-01  Quintilliano Cardozo       Tulio Roberto    0.0  29.0   \n",
       "\n",
       "   ...  latitude_5 longitude_5 exact_coordinates_5 place_6 end_location_6  \\\n",
       "0  ...         NaN         NaN                 NaN     NaN            NaN   \n",
       "1  ...         NaN         NaN                 NaN     NaN            NaN   \n",
       "2  ...         NaN         NaN                 NaN     NaN            NaN   \n",
       "3  ...         NaN         NaN                 NaN     NaN            NaN   \n",
       "4  ...         NaN         NaN                 NaN     NaN            NaN   \n",
       "\n",
       "  latitude_6 longitude_6  exact_coordinates_6    page  additional_comments  \n",
       "0        NaN         NaN                  NaN     159                  NaN  \n",
       "1        NaN         NaN                  NaN  159-60                  NaN  \n",
       "2        NaN         NaN                  NaN     160                  NaN  \n",
       "3        NaN         NaN                  NaN     160                  NaN  \n",
       "4        NaN         NaN                  NaN  160-61                  NaN  \n",
       "\n",
       "[5 rows x 59 columns]"
      ]
     },
     "execution_count": 5,
     "metadata": {},
     "output_type": "execute_result"
    }
   ],
   "source": [
    "import pandas as pd\n",
    "import numpy as np\n",
    "\n",
    "df = pd.read_csv(pinopath, sep=',', header=0)\n",
    "df.head()"
   ]
  },
  {
   "cell_type": "code",
   "execution_count": 6,
   "metadata": {
    "scrolled": true
   },
   "outputs": [
    {
     "name": "stdout",
     "output_type": "stream",
     "text": [
      "<class 'pandas.core.frame.DataFrame'>\n",
      "RangeIndex: 2398 entries, 0 to 2397\n",
      "Data columns (total 59 columns):\n",
      "individual_id                     2398 non-null int64\n",
      "group_id                          2398 non-null int64\n",
      "start_date_daily                  2232 non-null object\n",
      "end_date_daily                    2249 non-null object\n",
      "start_date_monthly                2289 non-null object\n",
      "end_date_monthly                  2307 non-null object\n",
      "last_name                         2398 non-null object\n",
      "first_name                        2398 non-null object\n",
      "minor                             2331 non-null float64\n",
      "age                               1625 non-null float64\n",
      "male                              2333 non-null float64\n",
      "occupation                        1820 non-null object\n",
      "occupation_detail                 1732 non-null object\n",
      "victim_affiliation                1453 non-null object\n",
      "victim_affiliation_detail         1327 non-null object\n",
      "violence                          2393 non-null object\n",
      "method                            1351 non-null object\n",
      "interrogation                     561 non-null float64\n",
      "torture                           796 non-null float64\n",
      "mistreatment                      685 non-null float64\n",
      "targeted                          163 non-null object\n",
      "press                             2398 non-null int64\n",
      "war_tribunal                      2398 non-null int64\n",
      "number_previous_arrests           49 non-null float64\n",
      "perpetrator_affiliation           2181 non-null object\n",
      "perpetrator_affiliation_detail    2186 non-null object\n",
      "nationality                       2398 non-null object\n",
      "place_1                           2110 non-null object\n",
      "start_location_1                  2189 non-null object\n",
      "latitude_1                        2109 non-null float64\n",
      "longitude_1                       2109 non-null float64\n",
      "exact_coordinates_1               2110 non-null float64\n",
      "place_2                           1275 non-null object\n",
      "location_2                        1266 non-null object\n",
      "latitude_2                        1239 non-null float64\n",
      "longitude_2                       1239 non-null float64\n",
      "exact_coordinates_2               1239 non-null float64\n",
      "place_3                           483 non-null object\n",
      "end_location_3                    483 non-null object\n",
      "latitude_3                        467 non-null float64\n",
      "longitude_3                       467 non-null float64\n",
      "exact_coordinates_3               466 non-null float64\n",
      "place_4                           110 non-null object\n",
      "end_location_4                    109 non-null object\n",
      "latitude_4                        111 non-null float64\n",
      "longitude_4                       111 non-null float64\n",
      "exact_coordinates_4               111 non-null float64\n",
      "place_5                           32 non-null object\n",
      "end_location_5                    32 non-null object\n",
      "latitude_5                        32 non-null float64\n",
      "longitude_5                       32 non-null float64\n",
      "exact_coordinates_5               32 non-null float64\n",
      "place_6                           6 non-null object\n",
      "end_location_6                    6 non-null object\n",
      "latitude_6                        6 non-null float64\n",
      "longitude_6                       6 non-null float64\n",
      "exact_coordinates_6               6 non-null float64\n",
      "page                              2390 non-null object\n",
      "additional_comments               10 non-null object\n",
      "dtypes: float64(25), int64(4), object(30)\n",
      "memory usage: 1.1+ MB\n"
     ]
    }
   ],
   "source": [
    "df.info()"
   ]
  },
  {
   "cell_type": "code",
   "execution_count": 7,
   "metadata": {},
   "outputs": [
    {
     "data": {
      "text/html": [
       "<div>\n",
       "<style scoped>\n",
       "    .dataframe tbody tr th:only-of-type {\n",
       "        vertical-align: middle;\n",
       "    }\n",
       "\n",
       "    .dataframe tbody tr th {\n",
       "        vertical-align: top;\n",
       "    }\n",
       "\n",
       "    .dataframe thead th {\n",
       "        text-align: right;\n",
       "    }\n",
       "</style>\n",
       "<table border=\"1\" class=\"dataframe\">\n",
       "  <thead>\n",
       "    <tr style=\"text-align: right;\">\n",
       "      <th></th>\n",
       "      <th>individual_id</th>\n",
       "      <th>group_id</th>\n",
       "      <th>minor</th>\n",
       "      <th>age</th>\n",
       "      <th>male</th>\n",
       "      <th>interrogation</th>\n",
       "      <th>torture</th>\n",
       "      <th>mistreatment</th>\n",
       "      <th>press</th>\n",
       "      <th>war_tribunal</th>\n",
       "      <th>...</th>\n",
       "      <th>exact_coordinates_3</th>\n",
       "      <th>latitude_4</th>\n",
       "      <th>longitude_4</th>\n",
       "      <th>exact_coordinates_4</th>\n",
       "      <th>latitude_5</th>\n",
       "      <th>longitude_5</th>\n",
       "      <th>exact_coordinates_5</th>\n",
       "      <th>latitude_6</th>\n",
       "      <th>longitude_6</th>\n",
       "      <th>exact_coordinates_6</th>\n",
       "    </tr>\n",
       "  </thead>\n",
       "  <tbody>\n",
       "    <tr>\n",
       "      <td>count</td>\n",
       "      <td>2398.000000</td>\n",
       "      <td>2398.000000</td>\n",
       "      <td>2331.000000</td>\n",
       "      <td>1625.000000</td>\n",
       "      <td>2333.000000</td>\n",
       "      <td>561.000000</td>\n",
       "      <td>796.000000</td>\n",
       "      <td>685.000000</td>\n",
       "      <td>2398.000000</td>\n",
       "      <td>2398.000000</td>\n",
       "      <td>...</td>\n",
       "      <td>466.000000</td>\n",
       "      <td>111.000000</td>\n",
       "      <td>111.000000</td>\n",
       "      <td>111.000000</td>\n",
       "      <td>32.000000</td>\n",
       "      <td>32.000000</td>\n",
       "      <td>32.000000</td>\n",
       "      <td>6.000000</td>\n",
       "      <td>6.000000</td>\n",
       "      <td>6.000000</td>\n",
       "    </tr>\n",
       "    <tr>\n",
       "      <td>mean</td>\n",
       "      <td>1199.500000</td>\n",
       "      <td>750.821101</td>\n",
       "      <td>0.040326</td>\n",
       "      <td>29.677674</td>\n",
       "      <td>0.956708</td>\n",
       "      <td>0.151515</td>\n",
       "      <td>0.358040</td>\n",
       "      <td>0.334307</td>\n",
       "      <td>0.036280</td>\n",
       "      <td>0.039199</td>\n",
       "      <td>...</td>\n",
       "      <td>0.706009</td>\n",
       "      <td>-31.901536</td>\n",
       "      <td>-70.992123</td>\n",
       "      <td>0.639640</td>\n",
       "      <td>-28.514519</td>\n",
       "      <td>-67.730817</td>\n",
       "      <td>0.718750</td>\n",
       "      <td>-33.658462</td>\n",
       "      <td>-70.584126</td>\n",
       "      <td>0.166667</td>\n",
       "    </tr>\n",
       "    <tr>\n",
       "      <td>std</td>\n",
       "      <td>692.387295</td>\n",
       "      <td>590.077072</td>\n",
       "      <td>0.196765</td>\n",
       "      <td>10.551773</td>\n",
       "      <td>0.203557</td>\n",
       "      <td>0.358870</td>\n",
       "      <td>0.479725</td>\n",
       "      <td>0.472092</td>\n",
       "      <td>0.187026</td>\n",
       "      <td>0.194109</td>\n",
       "      <td>...</td>\n",
       "      <td>0.456078</td>\n",
       "      <td>7.254840</td>\n",
       "      <td>3.380823</td>\n",
       "      <td>0.482282</td>\n",
       "      <td>14.315130</td>\n",
       "      <td>17.045161</td>\n",
       "      <td>0.456803</td>\n",
       "      <td>0.085408</td>\n",
       "      <td>0.030511</td>\n",
       "      <td>0.408248</td>\n",
       "    </tr>\n",
       "    <tr>\n",
       "      <td>min</td>\n",
       "      <td>1.000000</td>\n",
       "      <td>1.000000</td>\n",
       "      <td>0.000000</td>\n",
       "      <td>0.220000</td>\n",
       "      <td>0.000000</td>\n",
       "      <td>0.000000</td>\n",
       "      <td>0.000000</td>\n",
       "      <td>0.000000</td>\n",
       "      <td>0.000000</td>\n",
       "      <td>0.000000</td>\n",
       "      <td>...</td>\n",
       "      <td>0.000000</td>\n",
       "      <td>-40.650000</td>\n",
       "      <td>-102.552780</td>\n",
       "      <td>0.000000</td>\n",
       "      <td>-40.658470</td>\n",
       "      <td>-73.155567</td>\n",
       "      <td>0.000000</td>\n",
       "      <td>-33.693330</td>\n",
       "      <td>-70.646406</td>\n",
       "      <td>0.000000</td>\n",
       "    </tr>\n",
       "    <tr>\n",
       "      <td>25%</td>\n",
       "      <td>600.250000</td>\n",
       "      <td>312.250000</td>\n",
       "      <td>0.000000</td>\n",
       "      <td>22.000000</td>\n",
       "      <td>1.000000</td>\n",
       "      <td>0.000000</td>\n",
       "      <td>0.000000</td>\n",
       "      <td>0.000000</td>\n",
       "      <td>0.000000</td>\n",
       "      <td>0.000000</td>\n",
       "      <td>...</td>\n",
       "      <td>0.000000</td>\n",
       "      <td>-33.594037</td>\n",
       "      <td>-71.227613</td>\n",
       "      <td>0.000000</td>\n",
       "      <td>-33.585206</td>\n",
       "      <td>-71.238610</td>\n",
       "      <td>0.000000</td>\n",
       "      <td>-33.693330</td>\n",
       "      <td>-70.571670</td>\n",
       "      <td>0.000000</td>\n",
       "    </tr>\n",
       "    <tr>\n",
       "      <td>50%</td>\n",
       "      <td>1199.500000</td>\n",
       "      <td>603.500000</td>\n",
       "      <td>0.000000</td>\n",
       "      <td>27.000000</td>\n",
       "      <td>1.000000</td>\n",
       "      <td>0.000000</td>\n",
       "      <td>0.000000</td>\n",
       "      <td>0.000000</td>\n",
       "      <td>0.000000</td>\n",
       "      <td>0.000000</td>\n",
       "      <td>...</td>\n",
       "      <td>1.000000</td>\n",
       "      <td>-33.484124</td>\n",
       "      <td>-70.671424</td>\n",
       "      <td>1.000000</td>\n",
       "      <td>-33.278330</td>\n",
       "      <td>-70.694232</td>\n",
       "      <td>1.000000</td>\n",
       "      <td>-33.693330</td>\n",
       "      <td>-70.571670</td>\n",
       "      <td>0.000000</td>\n",
       "    </tr>\n",
       "    <tr>\n",
       "      <td>75%</td>\n",
       "      <td>1798.750000</td>\n",
       "      <td>1001.000000</td>\n",
       "      <td>0.000000</td>\n",
       "      <td>35.000000</td>\n",
       "      <td>1.000000</td>\n",
       "      <td>0.000000</td>\n",
       "      <td>1.000000</td>\n",
       "      <td>1.000000</td>\n",
       "      <td>0.000000</td>\n",
       "      <td>0.000000</td>\n",
       "      <td>...</td>\n",
       "      <td>1.000000</td>\n",
       "      <td>-33.323599</td>\n",
       "      <td>-70.622579</td>\n",
       "      <td>1.000000</td>\n",
       "      <td>-23.110638</td>\n",
       "      <td>-69.523302</td>\n",
       "      <td>1.000000</td>\n",
       "      <td>-33.693330</td>\n",
       "      <td>-70.571670</td>\n",
       "      <td>0.000000</td>\n",
       "    </tr>\n",
       "    <tr>\n",
       "      <td>max</td>\n",
       "      <td>2398.000000</td>\n",
       "      <td>2722.000000</td>\n",
       "      <td>1.000000</td>\n",
       "      <td>85.000000</td>\n",
       "      <td>1.000000</td>\n",
       "      <td>1.000000</td>\n",
       "      <td>1.000000</td>\n",
       "      <td>1.000000</td>\n",
       "      <td>1.000000</td>\n",
       "      <td>1.000000</td>\n",
       "      <td>...</td>\n",
       "      <td>1.000000</td>\n",
       "      <td>23.634500</td>\n",
       "      <td>-58.463610</td>\n",
       "      <td>1.000000</td>\n",
       "      <td>42.733880</td>\n",
       "      <td>25.485830</td>\n",
       "      <td>1.000000</td>\n",
       "      <td>-33.484124</td>\n",
       "      <td>-70.571670</td>\n",
       "      <td>1.000000</td>\n",
       "    </tr>\n",
       "  </tbody>\n",
       "</table>\n",
       "<p>8 rows × 29 columns</p>\n",
       "</div>"
      ],
      "text/plain": [
       "       individual_id     group_id        minor          age         male  \\\n",
       "count    2398.000000  2398.000000  2331.000000  1625.000000  2333.000000   \n",
       "mean     1199.500000   750.821101     0.040326    29.677674     0.956708   \n",
       "std       692.387295   590.077072     0.196765    10.551773     0.203557   \n",
       "min         1.000000     1.000000     0.000000     0.220000     0.000000   \n",
       "25%       600.250000   312.250000     0.000000    22.000000     1.000000   \n",
       "50%      1199.500000   603.500000     0.000000    27.000000     1.000000   \n",
       "75%      1798.750000  1001.000000     0.000000    35.000000     1.000000   \n",
       "max      2398.000000  2722.000000     1.000000    85.000000     1.000000   \n",
       "\n",
       "       interrogation     torture  mistreatment        press  war_tribunal  \\\n",
       "count     561.000000  796.000000    685.000000  2398.000000   2398.000000   \n",
       "mean        0.151515    0.358040      0.334307     0.036280      0.039199   \n",
       "std         0.358870    0.479725      0.472092     0.187026      0.194109   \n",
       "min         0.000000    0.000000      0.000000     0.000000      0.000000   \n",
       "25%         0.000000    0.000000      0.000000     0.000000      0.000000   \n",
       "50%         0.000000    0.000000      0.000000     0.000000      0.000000   \n",
       "75%         0.000000    1.000000      1.000000     0.000000      0.000000   \n",
       "max         1.000000    1.000000      1.000000     1.000000      1.000000   \n",
       "\n",
       "       ...  exact_coordinates_3  latitude_4  longitude_4  exact_coordinates_4  \\\n",
       "count  ...           466.000000  111.000000   111.000000           111.000000   \n",
       "mean   ...             0.706009  -31.901536   -70.992123             0.639640   \n",
       "std    ...             0.456078    7.254840     3.380823             0.482282   \n",
       "min    ...             0.000000  -40.650000  -102.552780             0.000000   \n",
       "25%    ...             0.000000  -33.594037   -71.227613             0.000000   \n",
       "50%    ...             1.000000  -33.484124   -70.671424             1.000000   \n",
       "75%    ...             1.000000  -33.323599   -70.622579             1.000000   \n",
       "max    ...             1.000000   23.634500   -58.463610             1.000000   \n",
       "\n",
       "       latitude_5  longitude_5  exact_coordinates_5  latitude_6  longitude_6  \\\n",
       "count   32.000000    32.000000            32.000000    6.000000     6.000000   \n",
       "mean   -28.514519   -67.730817             0.718750  -33.658462   -70.584126   \n",
       "std     14.315130    17.045161             0.456803    0.085408     0.030511   \n",
       "min    -40.658470   -73.155567             0.000000  -33.693330   -70.646406   \n",
       "25%    -33.585206   -71.238610             0.000000  -33.693330   -70.571670   \n",
       "50%    -33.278330   -70.694232             1.000000  -33.693330   -70.571670   \n",
       "75%    -23.110638   -69.523302             1.000000  -33.693330   -70.571670   \n",
       "max     42.733880    25.485830             1.000000  -33.484124   -70.571670   \n",
       "\n",
       "       exact_coordinates_6  \n",
       "count             6.000000  \n",
       "mean              0.166667  \n",
       "std               0.408248  \n",
       "min               0.000000  \n",
       "25%               0.000000  \n",
       "50%               0.000000  \n",
       "75%               0.000000  \n",
       "max               1.000000  \n",
       "\n",
       "[8 rows x 29 columns]"
      ]
     },
     "execution_count": 7,
     "metadata": {},
     "output_type": "execute_result"
    }
   ],
   "source": [
    "df.describe()"
   ]
  },
  {
   "cell_type": "code",
   "execution_count": 8,
   "metadata": {},
   "outputs": [
    {
     "data": {
      "text/plain": [
       "Index(['individual_id', 'group_id', 'start_date_daily', 'end_date_daily',\n",
       "       'start_date_monthly', 'end_date_monthly', 'last_name', 'first_name',\n",
       "       'minor', 'age', 'male', 'occupation', 'occupation_detail',\n",
       "       'victim_affiliation', 'victim_affiliation_detail', 'violence', 'method',\n",
       "       'interrogation', 'torture', 'mistreatment', 'targeted', 'press',\n",
       "       'war_tribunal', 'number_previous_arrests', 'perpetrator_affiliation',\n",
       "       'perpetrator_affiliation_detail', 'nationality', 'place_1',\n",
       "       'start_location_1', 'latitude_1', 'longitude_1', 'exact_coordinates_1',\n",
       "       'place_2', 'location_2', 'latitude_2', 'longitude_2',\n",
       "       'exact_coordinates_2', 'place_3', 'end_location_3', 'latitude_3',\n",
       "       'longitude_3', 'exact_coordinates_3', 'place_4', 'end_location_4',\n",
       "       'latitude_4', 'longitude_4', 'exact_coordinates_4', 'place_5',\n",
       "       'end_location_5', 'latitude_5', 'longitude_5', 'exact_coordinates_5',\n",
       "       'place_6', 'end_location_6', 'latitude_6', 'longitude_6',\n",
       "       'exact_coordinates_6', 'page', 'additional_comments'],\n",
       "      dtype='object')"
      ]
     },
     "execution_count": 8,
     "metadata": {},
     "output_type": "execute_result"
    }
   ],
   "source": [
    "df.columns"
   ]
  },
  {
   "cell_type": "markdown",
   "metadata": {},
   "source": [
    "## Codebook"
   ]
  },
  {
   "cell_type": "markdown",
   "metadata": {},
   "source": [
    "Del _codebook_ ubicado en <https://osf.io/8fkxq/>, es posible obtener las descripciones de las columnas. El texto se encuentra disponible online y de acceso público, por lo que no hace falta duplicar esa información.\n",
    "\n"
   ]
  },
  {
   "cell_type": "markdown",
   "metadata": {},
   "source": [
    "Sin embargo, algunas columnas contienen información que explica la naturaleza de este dataset."
   ]
  },
  {
   "cell_type": "markdown",
   "metadata": {},
   "source": [
    "### ¿Qué tipo de métodos de violencia fueron utilizados por los perpetradores?"
   ]
  },
  {
   "cell_type": "code",
   "execution_count": 9,
   "metadata": {},
   "outputs": [
    {
     "data": {
      "text/plain": [
       "['Gun',\n",
       " nan,\n",
       " 'Hung',\n",
       " 'Denied Medical Treatment',\n",
       " 'Beaten',\n",
       " 'Asphyxiated',\n",
       " 'Torture',\n",
       " 'Jumped',\n",
       " 'Cardio-respiratory Arrest',\n",
       " 'Gun and Acute Loss of Blood',\n",
       " 'Immersion',\n",
       " 'Gun and Asphyxiated',\n",
       " 'Cardio-respiratory Arrest and Torture',\n",
       " 'Denied Medical Treatment and Torture',\n",
       " 'Poisoned',\n",
       " 'Knife',\n",
       " 'Gun and Knife',\n",
       " 'Burned',\n",
       " 'Bomb',\n",
       " 'Gun and Bomb',\n",
       " 'Tear Gas',\n",
       " 'Gun and Torture',\n",
       " 'Beaten and Immersion',\n",
       " 'Electrocuted',\n",
       " 'Acute Loss of Blood',\n",
       " 'Intentional Car Crash']"
      ]
     },
     "execution_count": 9,
     "metadata": {},
     "output_type": "execute_result"
    }
   ],
   "source": [
    "df['method'].unique().tolist()"
   ]
  },
  {
   "cell_type": "markdown",
   "metadata": {},
   "source": [
    "### ¿Cuántos menores figuran en el informe?"
   ]
  },
  {
   "cell_type": "code",
   "execution_count": 10,
   "metadata": {},
   "outputs": [
    {
     "data": {
      "text/plain": [
       "94"
      ]
     },
     "execution_count": 10,
     "metadata": {},
     "output_type": "execute_result"
    }
   ],
   "source": [
    "df[df['minor'] == 1.0].count()['minor']"
   ]
  },
  {
   "cell_type": "markdown",
   "metadata": {},
   "source": [
    "### ¿Cuál es la edad promedio de las personas en el informe?"
   ]
  },
  {
   "cell_type": "code",
   "execution_count": 11,
   "metadata": {},
   "outputs": [
    {
     "data": {
      "text/plain": [
       "29.677673846153848"
      ]
     },
     "execution_count": 11,
     "metadata": {},
     "output_type": "execute_result"
    }
   ],
   "source": [
    "df['age'].mean()"
   ]
  },
  {
   "cell_type": "markdown",
   "metadata": {},
   "source": [
    "### ¿Qué edad tenía la persona más joven del informe?"
   ]
  },
  {
   "cell_type": "code",
   "execution_count": 12,
   "metadata": {},
   "outputs": [
    {
     "name": "stdout",
     "output_type": "stream",
     "text": [
      "2.64 meses\n"
     ]
    }
   ],
   "source": [
    "print(f'{df[\"age\"].min() * 12} meses')  # los valores están en años, queremos expresarlos en meses."
   ]
  },
  {
   "cell_type": "markdown",
   "metadata": {},
   "source": [
    "### ¿Cómo se distribuyen las ocupaciones?"
   ]
  },
  {
   "cell_type": "code",
   "execution_count": 13,
   "metadata": {},
   "outputs": [
    {
     "data": {
      "text/html": [
       "<div>\n",
       "<style scoped>\n",
       "    .dataframe tbody tr th:only-of-type {\n",
       "        vertical-align: middle;\n",
       "    }\n",
       "\n",
       "    .dataframe tbody tr th {\n",
       "        vertical-align: top;\n",
       "    }\n",
       "\n",
       "    .dataframe thead th {\n",
       "        text-align: right;\n",
       "    }\n",
       "</style>\n",
       "<table border=\"1\" class=\"dataframe\">\n",
       "  <thead>\n",
       "    <tr style=\"text-align: right;\">\n",
       "      <th></th>\n",
       "      <th>individual_id</th>\n",
       "    </tr>\n",
       "    <tr>\n",
       "      <th>occupation</th>\n",
       "      <th></th>\n",
       "    </tr>\n",
       "  </thead>\n",
       "  <tbody>\n",
       "    <tr>\n",
       "      <td>Blue Collar</td>\n",
       "      <td>896</td>\n",
       "    </tr>\n",
       "    <tr>\n",
       "      <td>White Collar</td>\n",
       "      <td>429</td>\n",
       "    </tr>\n",
       "    <tr>\n",
       "      <td>Non-military Government</td>\n",
       "      <td>151</td>\n",
       "    </tr>\n",
       "    <tr>\n",
       "      <td>University Student</td>\n",
       "      <td>140</td>\n",
       "    </tr>\n",
       "    <tr>\n",
       "      <td>School Student</td>\n",
       "      <td>88</td>\n",
       "    </tr>\n",
       "    <tr>\n",
       "      <td>Military</td>\n",
       "      <td>59</td>\n",
       "    </tr>\n",
       "    <tr>\n",
       "      <td>Unemployed</td>\n",
       "      <td>15</td>\n",
       "    </tr>\n",
       "    <tr>\n",
       "      <td>Housewife</td>\n",
       "      <td>8</td>\n",
       "    </tr>\n",
       "    <tr>\n",
       "      <td>White Collar and University Student</td>\n",
       "      <td>7</td>\n",
       "    </tr>\n",
       "    <tr>\n",
       "      <td>Blue Collar and White Collar</td>\n",
       "      <td>5</td>\n",
       "    </tr>\n",
       "    <tr>\n",
       "      <td>Ex-Military</td>\n",
       "      <td>5</td>\n",
       "    </tr>\n",
       "    <tr>\n",
       "      <td>White Collar and Non-military Government</td>\n",
       "      <td>5</td>\n",
       "    </tr>\n",
       "    <tr>\n",
       "      <td>Blue Collar and University Student</td>\n",
       "      <td>4</td>\n",
       "    </tr>\n",
       "    <tr>\n",
       "      <td>Blue Collar and Non-military Government</td>\n",
       "      <td>3</td>\n",
       "    </tr>\n",
       "    <tr>\n",
       "      <td>Non-military Government and Ex-Military</td>\n",
       "      <td>2</td>\n",
       "    </tr>\n",
       "    <tr>\n",
       "      <td>Blue Collar and School Student</td>\n",
       "      <td>1</td>\n",
       "    </tr>\n",
       "    <tr>\n",
       "      <td>Blue Collar and Ex-Military</td>\n",
       "      <td>1</td>\n",
       "    </tr>\n",
       "    <tr>\n",
       "      <td>White Collar and Military</td>\n",
       "      <td>1</td>\n",
       "    </tr>\n",
       "  </tbody>\n",
       "</table>\n",
       "</div>"
      ],
      "text/plain": [
       "                                          individual_id\n",
       "occupation                                             \n",
       "Blue Collar                                         896\n",
       "White Collar                                        429\n",
       "Non-military Government                             151\n",
       "University Student                                  140\n",
       "School Student                                       88\n",
       "Military                                             59\n",
       "Unemployed                                           15\n",
       "Housewife                                             8\n",
       "White Collar and University Student                   7\n",
       "Blue Collar and White Collar                          5\n",
       "Ex-Military                                           5\n",
       "White Collar and Non-military Government              5\n",
       "Blue Collar and University Student                    4\n",
       "Blue Collar and Non-military Government               3\n",
       "Non-military Government and Ex-Military               2\n",
       "Blue Collar and School Student                        1\n",
       "Blue Collar and Ex-Military                           1\n",
       "White Collar and Military                             1"
      ]
     },
     "execution_count": 13,
     "metadata": {},
     "output_type": "execute_result"
    }
   ],
   "source": [
    "df[['occupation', 'individual_id']].groupby(['occupation']).count().sort_values(by='individual_id', ascending=False)"
   ]
  },
  {
   "cell_type": "markdown",
   "metadata": {},
   "source": [
    "_Blue collar_ se refiere a obreros, de acuerdo a [Wikipedia](https://en.wikipedia.org/wiki/Blue-collar_worker), mientras que _White collar_ se refiere [a trabajos administrativos](https://en.wikipedia.org/wiki/White-collar_worker)"
   ]
  },
  {
   "cell_type": "markdown",
   "metadata": {},
   "source": [
    "### ¿Qué afiliación política tienen los perpetradores de los hechos indicados?"
   ]
  },
  {
   "cell_type": "code",
   "execution_count": 14,
   "metadata": {},
   "outputs": [
    {
     "data": {
      "text/html": [
       "<div>\n",
       "<style scoped>\n",
       "    .dataframe tbody tr th:only-of-type {\n",
       "        vertical-align: middle;\n",
       "    }\n",
       "\n",
       "    .dataframe tbody tr th {\n",
       "        vertical-align: top;\n",
       "    }\n",
       "\n",
       "    .dataframe thead th {\n",
       "        text-align: right;\n",
       "    }\n",
       "</style>\n",
       "<table border=\"1\" class=\"dataframe\">\n",
       "  <thead>\n",
       "    <tr style=\"text-align: right;\">\n",
       "      <th></th>\n",
       "      <th>individual_id</th>\n",
       "    </tr>\n",
       "    <tr>\n",
       "      <th>perpetrator_affiliation</th>\n",
       "      <th></th>\n",
       "    </tr>\n",
       "  </thead>\n",
       "  <tbody>\n",
       "    <tr>\n",
       "      <td>Regime</td>\n",
       "      <td>2056</td>\n",
       "    </tr>\n",
       "    <tr>\n",
       "      <td>Opposition</td>\n",
       "      <td>125</td>\n",
       "    </tr>\n",
       "  </tbody>\n",
       "</table>\n",
       "</div>"
      ],
      "text/plain": [
       "                         individual_id\n",
       "perpetrator_affiliation               \n",
       "Regime                            2056\n",
       "Opposition                         125"
      ]
     },
     "execution_count": 14,
     "metadata": {},
     "output_type": "execute_result"
    }
   ],
   "source": [
    "df[['perpetrator_affiliation', 'individual_id']].groupby(['perpetrator_affiliation']).count().sort_values(by='individual_id', ascending=False)"
   ]
  },
  {
   "cell_type": "markdown",
   "metadata": {},
   "source": [
    "### ¿Cuántos hechos aparecieron en la prensa?"
   ]
  },
  {
   "cell_type": "code",
   "execution_count": 15,
   "metadata": {},
   "outputs": [
    {
     "data": {
      "text/html": [
       "<div>\n",
       "<style scoped>\n",
       "    .dataframe tbody tr th:only-of-type {\n",
       "        vertical-align: middle;\n",
       "    }\n",
       "\n",
       "    .dataframe tbody tr th {\n",
       "        vertical-align: top;\n",
       "    }\n",
       "\n",
       "    .dataframe thead th {\n",
       "        text-align: right;\n",
       "    }\n",
       "</style>\n",
       "<table border=\"1\" class=\"dataframe\">\n",
       "  <thead>\n",
       "    <tr style=\"text-align: right;\">\n",
       "      <th></th>\n",
       "      <th>individual_id</th>\n",
       "    </tr>\n",
       "    <tr>\n",
       "      <th>press</th>\n",
       "      <th></th>\n",
       "    </tr>\n",
       "  </thead>\n",
       "  <tbody>\n",
       "    <tr>\n",
       "      <td>0</td>\n",
       "      <td>2311</td>\n",
       "    </tr>\n",
       "    <tr>\n",
       "      <td>1</td>\n",
       "      <td>87</td>\n",
       "    </tr>\n",
       "  </tbody>\n",
       "</table>\n",
       "</div>"
      ],
      "text/plain": [
       "       individual_id\n",
       "press               \n",
       "0               2311\n",
       "1                 87"
      ]
     },
     "execution_count": 15,
     "metadata": {},
     "output_type": "execute_result"
    }
   ],
   "source": [
    "df[['press','individual_id']].groupby('press').count()"
   ]
  },
  {
   "cell_type": "markdown",
   "metadata": {},
   "source": [
    "## Información geográfica"
   ]
  },
  {
   "cell_type": "markdown",
   "metadata": {},
   "source": [
    "Es de interés para el caso de nuestro análisis, el identificar la información geoespacial del dataset, por lo que trabajaremos con las siguientes columnas:"
   ]
  },
  {
   "cell_type": "code",
   "execution_count": 16,
   "metadata": {},
   "outputs": [
    {
     "data": {
      "text/html": [
       "<div>\n",
       "<style scoped>\n",
       "    .dataframe tbody tr th:only-of-type {\n",
       "        vertical-align: middle;\n",
       "    }\n",
       "\n",
       "    .dataframe tbody tr th {\n",
       "        vertical-align: top;\n",
       "    }\n",
       "\n",
       "    .dataframe thead th {\n",
       "        text-align: right;\n",
       "    }\n",
       "</style>\n",
       "<table border=\"1\" class=\"dataframe\">\n",
       "  <thead>\n",
       "    <tr style=\"text-align: right;\">\n",
       "      <th></th>\n",
       "      <th>place_1</th>\n",
       "      <th>start_location_1</th>\n",
       "      <th>latitude_1</th>\n",
       "      <th>longitude_1</th>\n",
       "      <th>exact_coordinates_1</th>\n",
       "      <th>place_2</th>\n",
       "      <th>location_2</th>\n",
       "      <th>latitude_2</th>\n",
       "      <th>longitude_2</th>\n",
       "      <th>exact_coordinates_2</th>\n",
       "      <th>...</th>\n",
       "      <th>place_5</th>\n",
       "      <th>end_location_5</th>\n",
       "      <th>latitude_5</th>\n",
       "      <th>longitude_5</th>\n",
       "      <th>exact_coordinates_5</th>\n",
       "      <th>place_6</th>\n",
       "      <th>end_location_6</th>\n",
       "      <th>latitude_6</th>\n",
       "      <th>longitude_6</th>\n",
       "      <th>exact_coordinates_6</th>\n",
       "    </tr>\n",
       "  </thead>\n",
       "  <tbody>\n",
       "    <tr>\n",
       "      <td>0</td>\n",
       "      <td>In Public</td>\n",
       "      <td>Calle Gran Avenida</td>\n",
       "      <td>-33.501342</td>\n",
       "      <td>-70.654242</td>\n",
       "      <td>0.0</td>\n",
       "      <td>In Hospital</td>\n",
       "      <td>Medical Legal Institute (by the Barros Luco Ho...</td>\n",
       "      <td>-33.484124</td>\n",
       "      <td>-70.646406</td>\n",
       "      <td>1.0</td>\n",
       "      <td>...</td>\n",
       "      <td>NaN</td>\n",
       "      <td>NaN</td>\n",
       "      <td>NaN</td>\n",
       "      <td>NaN</td>\n",
       "      <td>NaN</td>\n",
       "      <td>NaN</td>\n",
       "      <td>NaN</td>\n",
       "      <td>NaN</td>\n",
       "      <td>NaN</td>\n",
       "      <td>NaN</td>\n",
       "    </tr>\n",
       "    <tr>\n",
       "      <td>1</td>\n",
       "      <td>Home</td>\n",
       "      <td>Santiago</td>\n",
       "      <td>-33.448890</td>\n",
       "      <td>-70.669270</td>\n",
       "      <td>0.0</td>\n",
       "      <td>In Custody</td>\n",
       "      <td>Towards the 26th police station</td>\n",
       "      <td>-33.447846</td>\n",
       "      <td>-70.739530</td>\n",
       "      <td>0.0</td>\n",
       "      <td>...</td>\n",
       "      <td>NaN</td>\n",
       "      <td>NaN</td>\n",
       "      <td>NaN</td>\n",
       "      <td>NaN</td>\n",
       "      <td>NaN</td>\n",
       "      <td>NaN</td>\n",
       "      <td>NaN</td>\n",
       "      <td>NaN</td>\n",
       "      <td>NaN</td>\n",
       "      <td>NaN</td>\n",
       "    </tr>\n",
       "    <tr>\n",
       "      <td>2</td>\n",
       "      <td>In Public</td>\n",
       "      <td>La Legua shantytown</td>\n",
       "      <td>-33.487220</td>\n",
       "      <td>-70.635560</td>\n",
       "      <td>0.0</td>\n",
       "      <td>In Hospital</td>\n",
       "      <td>Barros Luco Hospital</td>\n",
       "      <td>-33.484124</td>\n",
       "      <td>-70.646406</td>\n",
       "      <td>1.0</td>\n",
       "      <td>...</td>\n",
       "      <td>NaN</td>\n",
       "      <td>NaN</td>\n",
       "      <td>NaN</td>\n",
       "      <td>NaN</td>\n",
       "      <td>NaN</td>\n",
       "      <td>NaN</td>\n",
       "      <td>NaN</td>\n",
       "      <td>NaN</td>\n",
       "      <td>NaN</td>\n",
       "      <td>NaN</td>\n",
       "    </tr>\n",
       "    <tr>\n",
       "      <td>3</td>\n",
       "      <td>In Custody</td>\n",
       "      <td>Tacna Regiment</td>\n",
       "      <td>-33.596477</td>\n",
       "      <td>-70.704573</td>\n",
       "      <td>1.0</td>\n",
       "      <td>NaN</td>\n",
       "      <td>NaN</td>\n",
       "      <td>NaN</td>\n",
       "      <td>NaN</td>\n",
       "      <td>NaN</td>\n",
       "      <td>...</td>\n",
       "      <td>NaN</td>\n",
       "      <td>NaN</td>\n",
       "      <td>NaN</td>\n",
       "      <td>NaN</td>\n",
       "      <td>NaN</td>\n",
       "      <td>NaN</td>\n",
       "      <td>NaN</td>\n",
       "      <td>NaN</td>\n",
       "      <td>NaN</td>\n",
       "      <td>NaN</td>\n",
       "    </tr>\n",
       "    <tr>\n",
       "      <td>4</td>\n",
       "      <td>In Custody</td>\n",
       "      <td>Military Academy</td>\n",
       "      <td>-33.411545</td>\n",
       "      <td>-70.584206</td>\n",
       "      <td>1.0</td>\n",
       "      <td>NaN</td>\n",
       "      <td>NaN</td>\n",
       "      <td>NaN</td>\n",
       "      <td>NaN</td>\n",
       "      <td>NaN</td>\n",
       "      <td>...</td>\n",
       "      <td>NaN</td>\n",
       "      <td>NaN</td>\n",
       "      <td>NaN</td>\n",
       "      <td>NaN</td>\n",
       "      <td>NaN</td>\n",
       "      <td>NaN</td>\n",
       "      <td>NaN</td>\n",
       "      <td>NaN</td>\n",
       "      <td>NaN</td>\n",
       "      <td>NaN</td>\n",
       "    </tr>\n",
       "  </tbody>\n",
       "</table>\n",
       "<p>5 rows × 30 columns</p>\n",
       "</div>"
      ],
      "text/plain": [
       "      place_1     start_location_1  latitude_1  longitude_1  \\\n",
       "0   In Public   Calle Gran Avenida  -33.501342   -70.654242   \n",
       "1        Home             Santiago  -33.448890   -70.669270   \n",
       "2   In Public  La Legua shantytown  -33.487220   -70.635560   \n",
       "3  In Custody       Tacna Regiment  -33.596477   -70.704573   \n",
       "4  In Custody     Military Academy  -33.411545   -70.584206   \n",
       "\n",
       "   exact_coordinates_1      place_2  \\\n",
       "0                  0.0  In Hospital   \n",
       "1                  0.0   In Custody   \n",
       "2                  0.0  In Hospital   \n",
       "3                  1.0          NaN   \n",
       "4                  1.0          NaN   \n",
       "\n",
       "                                          location_2  latitude_2  longitude_2  \\\n",
       "0  Medical Legal Institute (by the Barros Luco Ho...  -33.484124   -70.646406   \n",
       "1                    Towards the 26th police station  -33.447846   -70.739530   \n",
       "2                               Barros Luco Hospital  -33.484124   -70.646406   \n",
       "3                                                NaN         NaN          NaN   \n",
       "4                                                NaN         NaN          NaN   \n",
       "\n",
       "   exact_coordinates_2  ... place_5 end_location_5  latitude_5  longitude_5  \\\n",
       "0                  1.0  ...     NaN            NaN         NaN          NaN   \n",
       "1                  0.0  ...     NaN            NaN         NaN          NaN   \n",
       "2                  1.0  ...     NaN            NaN         NaN          NaN   \n",
       "3                  NaN  ...     NaN            NaN         NaN          NaN   \n",
       "4                  NaN  ...     NaN            NaN         NaN          NaN   \n",
       "\n",
       "   exact_coordinates_5 place_6 end_location_6  latitude_6  longitude_6  \\\n",
       "0                  NaN     NaN            NaN         NaN          NaN   \n",
       "1                  NaN     NaN            NaN         NaN          NaN   \n",
       "2                  NaN     NaN            NaN         NaN          NaN   \n",
       "3                  NaN     NaN            NaN         NaN          NaN   \n",
       "4                  NaN     NaN            NaN         NaN          NaN   \n",
       "\n",
       "   exact_coordinates_6  \n",
       "0                  NaN  \n",
       "1                  NaN  \n",
       "2                  NaN  \n",
       "3                  NaN  \n",
       "4                  NaN  \n",
       "\n",
       "[5 rows x 30 columns]"
      ]
     },
     "execution_count": 16,
     "metadata": {},
     "output_type": "execute_result"
    }
   ],
   "source": [
    "columns_geo = []\n",
    "for c in df.columns:\n",
    "    if any(x in c for x in (\"location\", \"place\", \"longitude\", \"latitude\", \"coordinates\")):\n",
    "        columns_geo.append(c)\n",
    "        \n",
    "df[columns_geo].head()"
   ]
  },
  {
   "cell_type": "markdown",
   "metadata": {},
   "source": [
    "Del _codebook_ se observa lo siguiente (énfasis mío).\n",
    "\n",
    "\n",
    "> `exact_coordinates_n` : We matched the event sites with coordinates of latitude and longitude.\n",
    "As the report does not have the precise location of all events, we used the closest reference\n",
    "available. This is a dummy variable stating whether coordinates are precise (street level) or\n",
    "not. 1 = yes. There are six variables in the dataset, each pertaining to one location where the\n",
    "individual was found or taken to.\n",
    ">\n",
    "> `location_n` : Where the individual was seen or found. There are up to 6 locations, so we\n",
    "coded them as location_1 to location_6 . The same pattern repeats in the variables below.\n",
    "The compilation of the location_n variable was based completely on information given in\n",
    "the Truth Report. However, since this information was in a string format (e.g. intersection\n",
    "of Calle Grecia and Avenida Rosa), creating a new variable incorporating each location’s\n",
    "latitude and longitude was necessary to pursue further analysis of the trends in deaths and\n",
    "disappearances. The format chosen was **decimal coordinates**.\n",
    ">\n",
    "> `place_n` : Place where the individual was spotted/reported to be seen. (in chronological order,\n",
    "from 1 to 6 places). \n",
    ">\n",
    ">     Categories:\n",
    ">            – Home; Work; University; In custody; In public; In hospital; Unknown\n",
    "\n",
    "Usaremos la primera ubicación indicada, es decir `n=1`, usando `shapely` y `folium`. Pero para esto primero debemos aislar estos puntos, eliminando las columnas con `n>1`."
   ]
  },
  {
   "cell_type": "code",
   "execution_count": 17,
   "metadata": {},
   "outputs": [],
   "source": [
    "dfn1 = df.drop(axis=1,\n",
    "    labels=[\n",
    "        'place_2', 'location_2', 'latitude_2', 'longitude_2',\n",
    "        'exact_coordinates_2', 'place_3', 'end_location_3', 'latitude_3',\n",
    "        'longitude_3', 'exact_coordinates_3', 'place_4', 'end_location_4',\n",
    "        'latitude_4', 'longitude_4', 'exact_coordinates_4', 'place_5',\n",
    "        'end_location_5', 'latitude_5', 'longitude_5', 'exact_coordinates_5',\n",
    "        'place_6', 'end_location_6', 'latitude_6', 'longitude_6',\n",
    "        'exact_coordinates_6',])"
   ]
  },
  {
   "cell_type": "code",
   "execution_count": 18,
   "metadata": {},
   "outputs": [
    {
     "data": {
      "text/html": [
       "<div>\n",
       "<style scoped>\n",
       "    .dataframe tbody tr th:only-of-type {\n",
       "        vertical-align: middle;\n",
       "    }\n",
       "\n",
       "    .dataframe tbody tr th {\n",
       "        vertical-align: top;\n",
       "    }\n",
       "\n",
       "    .dataframe thead th {\n",
       "        text-align: right;\n",
       "    }\n",
       "</style>\n",
       "<table border=\"1\" class=\"dataframe\">\n",
       "  <thead>\n",
       "    <tr style=\"text-align: right;\">\n",
       "      <th></th>\n",
       "      <th>individual_id</th>\n",
       "      <th>group_id</th>\n",
       "      <th>start_date_daily</th>\n",
       "      <th>end_date_daily</th>\n",
       "      <th>start_date_monthly</th>\n",
       "      <th>end_date_monthly</th>\n",
       "      <th>last_name</th>\n",
       "      <th>first_name</th>\n",
       "      <th>minor</th>\n",
       "      <th>age</th>\n",
       "      <th>...</th>\n",
       "      <th>perpetrator_affiliation</th>\n",
       "      <th>perpetrator_affiliation_detail</th>\n",
       "      <th>nationality</th>\n",
       "      <th>place_1</th>\n",
       "      <th>start_location_1</th>\n",
       "      <th>latitude_1</th>\n",
       "      <th>longitude_1</th>\n",
       "      <th>exact_coordinates_1</th>\n",
       "      <th>page</th>\n",
       "      <th>additional_comments</th>\n",
       "    </tr>\n",
       "  </thead>\n",
       "  <tbody>\n",
       "    <tr>\n",
       "      <td>0</td>\n",
       "      <td>1</td>\n",
       "      <td>1</td>\n",
       "      <td>1973-09-12</td>\n",
       "      <td>1973-09-12</td>\n",
       "      <td>1973-09-01</td>\n",
       "      <td>1973-09-01</td>\n",
       "      <td>Corredera Reyes</td>\n",
       "      <td>Mercedes del Pilar</td>\n",
       "      <td>1.0</td>\n",
       "      <td>NaN</td>\n",
       "      <td>...</td>\n",
       "      <td>NaN</td>\n",
       "      <td>NaN</td>\n",
       "      <td>Chilean</td>\n",
       "      <td>In Public</td>\n",
       "      <td>Calle Gran Avenida</td>\n",
       "      <td>-33.501342</td>\n",
       "      <td>-70.654242</td>\n",
       "      <td>0.0</td>\n",
       "      <td>159</td>\n",
       "      <td>NaN</td>\n",
       "    </tr>\n",
       "    <tr>\n",
       "      <td>1</td>\n",
       "      <td>2</td>\n",
       "      <td>2</td>\n",
       "      <td>1973-09-11</td>\n",
       "      <td>1973-09-12</td>\n",
       "      <td>1973-09-01</td>\n",
       "      <td>1973-09-01</td>\n",
       "      <td>Torres Torres</td>\n",
       "      <td>Benito Heriberto</td>\n",
       "      <td>0.0</td>\n",
       "      <td>57.0</td>\n",
       "      <td>...</td>\n",
       "      <td>Regime</td>\n",
       "      <td>Policemen</td>\n",
       "      <td>Chilean</td>\n",
       "      <td>Home</td>\n",
       "      <td>Santiago</td>\n",
       "      <td>-33.448890</td>\n",
       "      <td>-70.669270</td>\n",
       "      <td>0.0</td>\n",
       "      <td>159-60</td>\n",
       "      <td>NaN</td>\n",
       "    </tr>\n",
       "    <tr>\n",
       "      <td>2</td>\n",
       "      <td>3</td>\n",
       "      <td>3</td>\n",
       "      <td>1973-09-12</td>\n",
       "      <td>1973-09-12</td>\n",
       "      <td>1973-09-01</td>\n",
       "      <td>1973-09-01</td>\n",
       "      <td>Lira Morales</td>\n",
       "      <td>Juan Manuel</td>\n",
       "      <td>0.0</td>\n",
       "      <td>23.0</td>\n",
       "      <td>...</td>\n",
       "      <td>Regime</td>\n",
       "      <td>Military</td>\n",
       "      <td>Chilean</td>\n",
       "      <td>In Public</td>\n",
       "      <td>La Legua shantytown</td>\n",
       "      <td>-33.487220</td>\n",
       "      <td>-70.635560</td>\n",
       "      <td>0.0</td>\n",
       "      <td>160</td>\n",
       "      <td>NaN</td>\n",
       "    </tr>\n",
       "    <tr>\n",
       "      <td>3</td>\n",
       "      <td>4</td>\n",
       "      <td>4</td>\n",
       "      <td>1973-09-12</td>\n",
       "      <td>1973-09-14</td>\n",
       "      <td>1973-09-01</td>\n",
       "      <td>1973-09-01</td>\n",
       "      <td>Fontela Alonso</td>\n",
       "      <td>Alberto Mariano</td>\n",
       "      <td>0.0</td>\n",
       "      <td>26.0</td>\n",
       "      <td>...</td>\n",
       "      <td>Regime</td>\n",
       "      <td>Military (Tacna Regiment)</td>\n",
       "      <td>Chilean</td>\n",
       "      <td>In Custody</td>\n",
       "      <td>Tacna Regiment</td>\n",
       "      <td>-33.596477</td>\n",
       "      <td>-70.704573</td>\n",
       "      <td>1.0</td>\n",
       "      <td>160</td>\n",
       "      <td>NaN</td>\n",
       "    </tr>\n",
       "    <tr>\n",
       "      <td>4</td>\n",
       "      <td>5</td>\n",
       "      <td>5</td>\n",
       "      <td>1973-09-12</td>\n",
       "      <td>1973-09-12</td>\n",
       "      <td>1973-09-01</td>\n",
       "      <td>1973-09-01</td>\n",
       "      <td>Quintilliano Cardozo</td>\n",
       "      <td>Tulio Roberto</td>\n",
       "      <td>0.0</td>\n",
       "      <td>29.0</td>\n",
       "      <td>...</td>\n",
       "      <td>Regime</td>\n",
       "      <td>Military</td>\n",
       "      <td>Chilean</td>\n",
       "      <td>In Custody</td>\n",
       "      <td>Military Academy</td>\n",
       "      <td>-33.411545</td>\n",
       "      <td>-70.584206</td>\n",
       "      <td>1.0</td>\n",
       "      <td>160-61</td>\n",
       "      <td>NaN</td>\n",
       "    </tr>\n",
       "  </tbody>\n",
       "</table>\n",
       "<p>5 rows × 34 columns</p>\n",
       "</div>"
      ],
      "text/plain": [
       "   individual_id  group_id start_date_daily end_date_daily start_date_monthly  \\\n",
       "0              1         1       1973-09-12     1973-09-12         1973-09-01   \n",
       "1              2         2       1973-09-11     1973-09-12         1973-09-01   \n",
       "2              3         3       1973-09-12     1973-09-12         1973-09-01   \n",
       "3              4         4       1973-09-12     1973-09-14         1973-09-01   \n",
       "4              5         5       1973-09-12     1973-09-12         1973-09-01   \n",
       "\n",
       "  end_date_monthly             last_name          first_name  minor   age  \\\n",
       "0       1973-09-01       Corredera Reyes  Mercedes del Pilar    1.0   NaN   \n",
       "1       1973-09-01         Torres Torres    Benito Heriberto    0.0  57.0   \n",
       "2       1973-09-01          Lira Morales         Juan Manuel    0.0  23.0   \n",
       "3       1973-09-01        Fontela Alonso     Alberto Mariano    0.0  26.0   \n",
       "4       1973-09-01  Quintilliano Cardozo       Tulio Roberto    0.0  29.0   \n",
       "\n",
       "   ...  perpetrator_affiliation perpetrator_affiliation_detail nationality  \\\n",
       "0  ...                      NaN                            NaN     Chilean   \n",
       "1  ...                   Regime                      Policemen     Chilean   \n",
       "2  ...                   Regime                      Military      Chilean   \n",
       "3  ...                   Regime     Military (Tacna Regiment)      Chilean   \n",
       "4  ...                   Regime                      Military      Chilean   \n",
       "\n",
       "      place_1     start_location_1 latitude_1 longitude_1  \\\n",
       "0   In Public   Calle Gran Avenida -33.501342  -70.654242   \n",
       "1        Home             Santiago -33.448890  -70.669270   \n",
       "2   In Public  La Legua shantytown -33.487220  -70.635560   \n",
       "3  In Custody       Tacna Regiment -33.596477  -70.704573   \n",
       "4  In Custody     Military Academy -33.411545  -70.584206   \n",
       "\n",
       "   exact_coordinates_1    page  additional_comments  \n",
       "0                  0.0     159                  NaN  \n",
       "1                  0.0  159-60                  NaN  \n",
       "2                  0.0     160                  NaN  \n",
       "3                  1.0     160                  NaN  \n",
       "4                  1.0  160-61                  NaN  \n",
       "\n",
       "[5 rows x 34 columns]"
      ]
     },
     "execution_count": 18,
     "metadata": {},
     "output_type": "execute_result"
    }
   ],
   "source": [
    "dfn1.head()"
   ]
  },
  {
   "cell_type": "code",
   "execution_count": 19,
   "metadata": {},
   "outputs": [
    {
     "name": "stdout",
     "output_type": "stream",
     "text": [
      "0.10.0\n"
     ]
    }
   ],
   "source": [
    "import folium\n",
    "print(folium.__version__)"
   ]
  },
  {
   "cell_type": "code",
   "execution_count": 20,
   "metadata": {},
   "outputs": [
    {
     "data": {
      "text/html": [
       "<div>\n",
       "<style scoped>\n",
       "    .dataframe tbody tr th:only-of-type {\n",
       "        vertical-align: middle;\n",
       "    }\n",
       "\n",
       "    .dataframe tbody tr th {\n",
       "        vertical-align: top;\n",
       "    }\n",
       "\n",
       "    .dataframe thead th {\n",
       "        text-align: right;\n",
       "    }\n",
       "</style>\n",
       "<table border=\"1\" class=\"dataframe\">\n",
       "  <thead>\n",
       "    <tr style=\"text-align: right;\">\n",
       "      <th></th>\n",
       "      <th>latitude_1</th>\n",
       "      <th>longitude_1</th>\n",
       "    </tr>\n",
       "  </thead>\n",
       "  <tbody>\n",
       "    <tr>\n",
       "      <td>count</td>\n",
       "      <td>2109.000000</td>\n",
       "      <td>2109.000000</td>\n",
       "    </tr>\n",
       "    <tr>\n",
       "      <td>mean</td>\n",
       "      <td>-33.997637</td>\n",
       "      <td>-70.943345</td>\n",
       "    </tr>\n",
       "    <tr>\n",
       "      <td>std</td>\n",
       "      <td>5.127197</td>\n",
       "      <td>2.486779</td>\n",
       "    </tr>\n",
       "    <tr>\n",
       "      <td>min</td>\n",
       "      <td>-53.163830</td>\n",
       "      <td>-77.036870</td>\n",
       "    </tr>\n",
       "    <tr>\n",
       "      <td>25%</td>\n",
       "      <td>-36.606260</td>\n",
       "      <td>-71.850008</td>\n",
       "    </tr>\n",
       "    <tr>\n",
       "      <td>50%</td>\n",
       "      <td>-33.486940</td>\n",
       "      <td>-70.695170</td>\n",
       "    </tr>\n",
       "    <tr>\n",
       "      <td>75%</td>\n",
       "      <td>-33.440641</td>\n",
       "      <td>-70.649090</td>\n",
       "    </tr>\n",
       "    <tr>\n",
       "      <td>max</td>\n",
       "      <td>48.856610</td>\n",
       "      <td>2.352220</td>\n",
       "    </tr>\n",
       "  </tbody>\n",
       "</table>\n",
       "</div>"
      ],
      "text/plain": [
       "        latitude_1  longitude_1\n",
       "count  2109.000000  2109.000000\n",
       "mean    -33.997637   -70.943345\n",
       "std       5.127197     2.486779\n",
       "min     -53.163830   -77.036870\n",
       "25%     -36.606260   -71.850008\n",
       "50%     -33.486940   -70.695170\n",
       "75%     -33.440641   -70.649090\n",
       "max      48.856610     2.352220"
      ]
     },
     "execution_count": 20,
     "metadata": {},
     "output_type": "execute_result"
    }
   ],
   "source": [
    "dfn1[['latitude_1', 'longitude_1']].describe()"
   ]
  },
  {
   "cell_type": "code",
   "execution_count": 21,
   "metadata": {},
   "outputs": [
    {
     "name": "stdout",
     "output_type": "stream",
     "text": [
      "<class 'pandas.core.frame.DataFrame'>\n",
      "RangeIndex: 2398 entries, 0 to 2397\n",
      "Data columns (total 2 columns):\n",
      "latitude_1     2109 non-null float64\n",
      "longitude_1    2109 non-null float64\n",
      "dtypes: float64(2)\n",
      "memory usage: 37.6 KB\n"
     ]
    }
   ],
   "source": [
    "dfn1[['latitude_1', 'longitude_1']].info()"
   ]
  },
  {
   "cell_type": "code",
   "execution_count": 22,
   "metadata": {},
   "outputs": [
    {
     "data": {
      "text/plain": [
       "latitude_1     289\n",
       "longitude_1    289\n",
       "dtype: int64"
      ]
     },
     "execution_count": 22,
     "metadata": {},
     "output_type": "execute_result"
    }
   ],
   "source": [
    "dfn1[['latitude_1', 'longitude_1']].isnull().sum()  # eliminamos aquellos valores nulos"
   ]
  },
  {
   "cell_type": "code",
   "execution_count": 23,
   "metadata": {},
   "outputs": [
    {
     "data": {
      "text/plain": [
       "latitude_1     0\n",
       "longitude_1    0\n",
       "dtype: int64"
      ]
     },
     "execution_count": 23,
     "metadata": {},
     "output_type": "execute_result"
    }
   ],
   "source": [
    "dfn1 = dfn1.dropna(subset=['latitude_1', 'longitude_1'])\n",
    "dfn1[['latitude_1', 'longitude_1']].isnull().sum()  # eliminamos aquellos valores nulos"
   ]
  },
  {
   "cell_type": "markdown",
   "metadata": {},
   "source": [
    "Objetivos\n",
    "\n",
    "1. Dibujar los puntos de la localizacion N1\n",
    "    - caracterizar los íconos por tipo de violencia, edad, y ocupación a través de un radiobutton\n",
    "    - otros\n",
    "2. Dibujar los caminos realizados por cada trayecto cuando N es mayor que 1"
   ]
  },
  {
   "cell_type": "markdown",
   "metadata": {},
   "source": [
    "Grafiquemos los diez primeros eventos"
   ]
  },
  {
   "cell_type": "code",
   "execution_count": 24,
   "metadata": {
    "scrolled": false
   },
   "outputs": [
    {
     "data": {
      "text/html": [
       "<div style=\"width:100%;\"><div style=\"position:relative;width:100%;height:0;padding-bottom:60%;\"><iframe src=\"data:text/html;charset=utf-8;base64,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\" style=\"position:absolute;width:100%;height:100%;left:0;top:0;border:none !important;\" allowfullscreen webkitallowfullscreen mozallowfullscreen></iframe></div></div>"
      ],
      "text/plain": [
       "<folium.folium.Map at 0x7fab505eda90>"
      ]
     },
     "execution_count": 24,
     "metadata": {},
     "output_type": "execute_result"
    }
   ],
   "source": [
    "import itertools\n",
    "pinomap = folium.Map(location=[dfn1['latitude_1'][0], dfn1['longitude_1'][0]], zoom_start=10)\n",
    "\n",
    "for row in itertools.islice(dfn1.itertuples(), 5): # iterating over the first 5 elements only\n",
    "    (\n",
    "        folium.Marker(\n",
    "            location=[\n",
    "                row.latitude_1,\n",
    "                row.longitude_1],\n",
    "            tooltip = f'{row.first_name} {row.last_name}. Type of violence: {row.method}'\n",
    "        ).add_to(pinomap)\n",
    "    )\n",
    "pinomap"
   ]
  },
  {
   "cell_type": "markdown",
   "metadata": {},
   "source": [
    "## Improving our maps\n",
    "\n",
    "We would like to achieve the following new features for our map\n",
    "\n",
    "- Add a search box, to search events by the name of the affected person\n",
    "- Use different colour and icons in our markers, depending of the characteristics of the event\n",
    "- Improve the text being shown\n",
    "\n",
    "To achieve this and more, we need to first map our coordinates to a `GeoDataFrame`, which exposes a `geometry` attribute that is used by other libraries."
   ]
  },
  {
   "cell_type": "code",
   "execution_count": 25,
   "metadata": {},
   "outputs": [],
   "source": [
    "from shapely.geometry import Point"
   ]
  },
  {
   "cell_type": "code",
   "execution_count": 26,
   "metadata": {},
   "outputs": [
    {
     "data": {
      "text/plain": [
       "array([-33.501342, -70.654242])"
      ]
     },
     "execution_count": 26,
     "metadata": {},
     "output_type": "execute_result"
    }
   ],
   "source": [
    "dfn1[['latitude_1', 'longitude_1']].values[0]"
   ]
  },
  {
   "cell_type": "code",
   "execution_count": 27,
   "metadata": {},
   "outputs": [],
   "source": [
    "test_point = Point(dfn1[['latitude_1', 'longitude_1']].values[0])"
   ]
  },
  {
   "cell_type": "code",
   "execution_count": 28,
   "metadata": {},
   "outputs": [
    {
     "name": "stdout",
     "output_type": "stream",
     "text": [
      "POINT (-33.501342 -70.65424200000001)\n"
     ]
    }
   ],
   "source": [
    "print(test_point)"
   ]
  },
  {
   "cell_type": "code",
   "execution_count": 29,
   "metadata": {},
   "outputs": [
    {
     "data": {
      "image/svg+xml": [
       "<svg xmlns=\"http://www.w3.org/2000/svg\" xmlns:xlink=\"http://www.w3.org/1999/xlink\" width=\"100.0\" height=\"100.0\" viewBox=\"-34.501342 -71.65424200000001 2.0 2.0\" preserveAspectRatio=\"xMinYMin meet\"><g transform=\"matrix(1,0,0,-1,0,-141.30848400000002)\"><circle cx=\"-33.501342\" cy=\"-70.65424200000001\" r=\"0.06\" stroke=\"#555555\" stroke-width=\"0.02\" fill=\"#66cc99\" opacity=\"0.6\" /></g></svg>"
      ],
      "text/plain": [
       "<shapely.geometry.point.Point at 0x7fab4efe9f50>"
      ]
     },
     "execution_count": 29,
     "metadata": {},
     "output_type": "execute_result"
    }
   ],
   "source": [
    "test_point"
   ]
  },
  {
   "cell_type": "markdown",
   "metadata": {},
   "source": [
    "We'll rely on the [geopandas API](https://geopandas.readthedocs.io/en/latest/gallery/create_geopandas_from_pandas.html#from-longitudes-and-latitudes), because this is a problem solved already."
   ]
  },
  {
   "cell_type": "code",
   "execution_count": 30,
   "metadata": {},
   "outputs": [],
   "source": [
    "import geopandas as gpd"
   ]
  },
  {
   "cell_type": "code",
   "execution_count": 31,
   "metadata": {},
   "outputs": [],
   "source": [
    "gdfn1 = gpd.GeoDataFrame(\n",
    "    dfn1, crs = {'init': 'epsg:4326'}, geometry=gpd.points_from_xy(dfn1['longitude_1'], dfn1['latitude_1']))"
   ]
  },
  {
   "cell_type": "code",
   "execution_count": 32,
   "metadata": {},
   "outputs": [
    {
     "data": {
      "text/plain": [
       "Index(['individual_id', 'group_id', 'start_date_daily', 'end_date_daily',\n",
       "       'start_date_monthly', 'end_date_monthly', 'last_name', 'first_name',\n",
       "       'minor', 'age', 'male', 'occupation', 'occupation_detail',\n",
       "       'victim_affiliation', 'victim_affiliation_detail', 'violence', 'method',\n",
       "       'interrogation', 'torture', 'mistreatment', 'targeted', 'press',\n",
       "       'war_tribunal', 'number_previous_arrests', 'perpetrator_affiliation',\n",
       "       'perpetrator_affiliation_detail', 'nationality', 'place_1',\n",
       "       'start_location_1', 'latitude_1', 'longitude_1', 'exact_coordinates_1',\n",
       "       'page', 'additional_comments', 'geometry'],\n",
       "      dtype='object')"
      ]
     },
     "execution_count": 32,
     "metadata": {},
     "output_type": "execute_result"
    }
   ],
   "source": [
    "gdfn1.columns"
   ]
  },
  {
   "cell_type": "markdown",
   "metadata": {},
   "source": [
    "Notice the new column at the end, `geometry`."
   ]
  },
  {
   "cell_type": "markdown",
   "metadata": {},
   "source": [
    "### Add a search bar\n",
    "\n",
    "We'll use the names of the people to feed the search bar."
   ]
  },
  {
   "cell_type": "markdown",
   "metadata": {},
   "source": [
    "We'll use the `GeoJson` class to map the `geometry` attribute on top of our map. We will also use helper functions to model the shape of the icons and texts."
   ]
  },
  {
   "cell_type": "code",
   "execution_count": 34,
   "metadata": {},
   "outputs": [
    {
     "data": {
      "text/plain": [
       "array([nan, 'Regime', 'Opposition'], dtype=object)"
      ]
     },
     "execution_count": 34,
     "metadata": {},
     "output_type": "execute_result"
    }
   ],
   "source": [
    "dfn1.perpetrator_affiliation.unique()"
   ]
  },
  {
   "cell_type": "code",
   "execution_count": 35,
   "metadata": {},
   "outputs": [
    {
     "data": {
      "text/plain": [
       "array([nan,  0.,  1.])"
      ]
     },
     "execution_count": 35,
     "metadata": {},
     "output_type": "execute_result"
    }
   ],
   "source": [
    "dfn1.torture.unique()"
   ]
  },
  {
   "cell_type": "code",
   "execution_count": 36,
   "metadata": {},
   "outputs": [
    {
     "data": {
      "text/plain": [
       "Index(['individual_id', 'group_id', 'start_date_daily', 'end_date_daily',\n",
       "       'start_date_monthly', 'end_date_monthly', 'last_name', 'first_name',\n",
       "       'minor', 'age', 'male', 'occupation', 'occupation_detail',\n",
       "       'victim_affiliation', 'victim_affiliation_detail', 'violence', 'method',\n",
       "       'interrogation', 'torture', 'mistreatment', 'targeted', 'press',\n",
       "       'war_tribunal', 'number_previous_arrests', 'perpetrator_affiliation',\n",
       "       'perpetrator_affiliation_detail', 'nationality', 'place_1',\n",
       "       'start_location_1', 'latitude_1', 'longitude_1', 'exact_coordinates_1',\n",
       "       'page', 'additional_comments', 'geometry'],\n",
       "      dtype='object')"
      ]
     },
     "execution_count": 36,
     "metadata": {},
     "output_type": "execute_result"
    }
   ],
   "source": [
    "dfn1.columns"
   ]
  },
  {
   "cell_type": "code",
   "execution_count": 37,
   "metadata": {},
   "outputs": [
    {
     "data": {
      "text/plain": [
       "array(['School Student', 'Blue Collar', 'White Collar', 'Unemployed',\n",
       "       'University Student', nan, 'Military', 'Non-military Government',\n",
       "       'Blue Collar and University Student',\n",
       "       'White Collar and Non-military Government',\n",
       "       'Blue Collar and Non-military Government',\n",
       "       'White Collar and University Student',\n",
       "       'Blue Collar and White Collar', 'Ex-Military',\n",
       "       'Non-military Government and Ex-Military',\n",
       "       'White Collar and Military', 'Housewife',\n",
       "       'Blue Collar and Ex-Military'], dtype=object)"
      ]
     },
     "execution_count": 37,
     "metadata": {},
     "output_type": "execute_result"
    }
   ],
   "source": [
    "dfn1.occupation.unique()"
   ]
  },
  {
   "cell_type": "markdown",
   "metadata": {},
   "source": [
    "### Plotting the map"
   ]
  },
  {
   "cell_type": "code",
   "execution_count": 38,
   "metadata": {},
   "outputs": [],
   "source": [
    "import typing as T\n",
    "import folium\n",
    "\n",
    "def features_marker_mapper(feature) -> folium.Icon:\n",
    "    \"\"\"Maps the row features to an `Icon` instance. \n",
    "    https://python-visualization.github.io/folium/modules.html#folium.map.Icon\n",
    "    \n",
    "    There are three icon features that will be considered: Shape, Colour and Icon\n",
    "    \n",
    "    Color: Red if the person was tortured, blue otherwise\n",
    "    Icon: From lowest hierarchy to highest,\n",
    "    - Copybook icon if it was an student, \n",
    "    - briefcase if it was a white collar\n",
    "    - Hardware tools if it was a blue collar,\n",
    "    - Grenade if it was military\n",
    "    - Person icon in any other case\n",
    "    Shape: Don't know yet.\n",
    "    \n",
    "    \"\"\"\n",
    "    \n",
    "    \n",
    "    icon_mapping = {\n",
    "        \"School Student\": None,\n",
    "        \"Blue Collar\": None,\n",
    "        \"White Collar\": None,\n",
    "        \"Unemployed\": None,\n",
    "        \"University Student\": None,\n",
    "        \"nan\": None,\n",
    "        \"Military\": None,\n",
    "        \"Non-military Government\": None,\n",
    "        \"Blue Collar and University Student\": None,\n",
    "        \"White Collar and Non-military Government\": None,\n",
    "        \"Blue Collar and Non-military Government\": None,\n",
    "        \"White Collar and University Student\": None,\n",
    "        \"Blue Collar and White Collar\": None,\n",
    "        \"Ex-Military\": None,\n",
    "        \"Non-military Government and Ex-Military\": None,\n",
    "        \"White Collar and Military\": None,\n",
    "        \"Housewife\": None,\n",
    "        \"Blue Collar and Ex-Military\": None,\n",
    "    }\n",
    "    \n",
    "#     was_minor = None\n",
    "#     was_regime = None\n",
    "    was_tortured = feature['properties']['torture']\n",
    "    \n",
    "    _color = '#red' if was_tortured else \"#blue\"\n",
    "    \n",
    "    icon = folium.Icon(color=_color,)\n",
    "    \n",
    "    return icon"
   ]
  },
  {
   "cell_type": "code",
   "execution_count": 155,
   "metadata": {},
   "outputs": [
    {
     "data": {
      "text/html": [
       "<div style=\"width:100%;\"><div style=\"position:relative;width:100%;height:0;padding-bottom:60%;\"><iframe src=\"data:text/html;charset=utf-8;base64,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\" style=\"position:absolute;width:100%;height:100%;left:0;top:0;border:none !important;\" allowfullscreen webkitallowfullscreen mozallowfullscreen></iframe></div></div>"
      ],
      "text/plain": [
       "<folium.folium.Map at 0x7fab38e8ec10>"
      ]
     },
     "execution_count": 155,
     "metadata": {},
     "output_type": "execute_result"
    }
   ],
   "source": [
    "import folium\n",
    "from folium.plugins import Search\n",
    "\n",
    "def style_function(row):\n",
    "    return {'color': '#0000ff' if row['properties']['method'] == \"Gun\" is True else '#00ff00'}\n",
    "\n",
    "pinomap = (\n",
    "    folium.Map(\n",
    "        location=[\n",
    "            dfn1['latitude_1'][0],\n",
    "            dfn1['longitude_1'][0]],\n",
    "        zoom_start=6,\n",
    "        tiles='cartodbpositron'))\n",
    "\n",
    "events_map = (\n",
    "    folium.GeoJson(\n",
    "        gdfn1[:50],  # We'll use the first 50 elements, because this is a prototype\n",
    "        name=\"Events documented\",\n",
    "        style_function=style_function,\n",
    "        tooltip=folium.GeoJsonTooltip(\n",
    "            aliases=['Name', 'Last Name', 'Occupation', 'Violence Type'],\n",
    "            fields=['first_name', 'last_name', 'occupation', 'method'], \n",
    "            localize=True)\n",
    "    )\n",
    "    .add_to(pinomap)\n",
    ")\n",
    "\n",
    "\n",
    "# add a search by first names\n",
    "namesearch = Search(\n",
    "    layer=events_map,\n",
    "    geom_type='Point',\n",
    "    placeholder='Escribe un nombre',\n",
    "    collapsed=False,\n",
    "    search_label='first_name',\n",
    "    search_zoom=12,\n",
    "#     weight=3\n",
    ").add_to(pinomap)\n",
    "\n",
    "# add a search by last name\n",
    "lastnamesearch = Search(\n",
    "    layer=events_map,\n",
    "    geom_type='Point',\n",
    "    placeholder='Escribe un apellido',\n",
    "    collapsed=False,\n",
    "    search_label='last_name',\n",
    "    search_zoom=12,\n",
    ").add_to(pinomap)\n",
    "\n",
    "pinomap"
   ]
  },
  {
   "cell_type": "markdown",
   "metadata": {},
   "source": [
    "### Agrupar íconos\n",
    "\n",
    "https://medium.com/@bobhaffner/folium-markerclusters-and-fastmarkerclusters-1e03b01cb7b1\n",
    "\n",
    "https://github.com/python-visualization/folium/issues/1129\n",
    "\n",
    "https://github.com/python-visualization/folium/pull/1190"
   ]
  },
  {
   "cell_type": "code",
   "execution_count": 149,
   "metadata": {
    "scrolled": true
   },
   "outputs": [
    {
     "data": {
      "text/html": [
       "<div style=\"width:100%;\"><div style=\"position:relative;width:100%;height:0;padding-bottom:60%;\"><iframe src=\"data:text/html;charset=utf-8;base64,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\" style=\"position:absolute;width:100%;height:100%;left:0;top:0;border:none !important;\" allowfullscreen webkitallowfullscreen mozallowfullscreen></iframe></div></div>"
      ],
      "text/plain": [
       "<folium.folium.Map at 0x7fab38fce550>"
      ]
     },
     "execution_count": 149,
     "metadata": {},
     "output_type": "execute_result"
    }
   ],
   "source": [
    "pinomap_gamma = folium.Map(\n",
    "    location=[\n",
    "        dfn1['latitude_1'][0],\n",
    "        dfn1['longitude_1'][0]\n",
    "    ],\n",
    "    zoom_start=6, tiles='cartodbpositron')\n",
    "\n",
    "# locations and popups ffor the clusters\n",
    "locations = gdfn1[['latitude_1', 'longitude_1']][:50]\n",
    "popups = list(gdfn1['last_name'][:50])\n",
    "\n",
    "marker_cluster = folium.plugins.MarkerCluster(\n",
    "    locations=locations,\n",
    "    popups=popups,\n",
    "    name='1000 clustered icons',\n",
    "    overlay=True,\n",
    "    control=True,\n",
    ")\n",
    "\n",
    "marker_cluster.add_to(pinomap_gamma)\n",
    "\n",
    "\n",
    "# add a search by first names\n",
    "# the search plugin is broken for clustered marks\n",
    "# https://github.com/python-visualization/folium/issues/1209\n",
    "\n",
    "namesearch = CustomSearch(\n",
    "    layer=marker_cluster,\n",
    "    geom_type='Point',\n",
    "    placeholder='Escribe un nombre',\n",
    ").add_to(pinomap_gamma)\n",
    "\n",
    "\n",
    "folium.LayerControl().add_to(pinomap_gamma)\n",
    "pinomap_gamma"
   ]
  }
 ],
 "metadata": {
  "kernelspec": {
   "display_name": "Python 3",
   "language": "python",
   "name": "python3"
  },
  "language_info": {
   "codemirror_mode": {
    "name": "ipython",
    "version": 3
   },
   "file_extension": ".py",
   "mimetype": "text/x-python",
   "name": "python",
   "nbconvert_exporter": "python",
   "pygments_lexer": "ipython3",
   "version": "3.7.4"
  }
 },
 "nbformat": 4,
 "nbformat_minor": 2
}
